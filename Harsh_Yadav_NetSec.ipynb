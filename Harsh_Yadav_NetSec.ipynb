{
  "nbformat": 4,
  "nbformat_minor": 0,
  "metadata": {
    "colab": {
      "name": "Harsh_Yadav_NetSec.ipynb",
      "provenance": []
    },
    "kernelspec": {
      "name": "python3",
      "display_name": "Python 3"
    },
    "language_info": {
      "name": "python"
    }
  },
  "cells": [
    {
      "cell_type": "code",
      "metadata": {
        "colab": {
          "base_uri": "https://localhost:8080/"
        },
        "id": "zvi5CXC-haQu",
        "outputId": "20a4f035-4255-42f6-f6c3-981783b40cad"
      },
      "source": [
        "#1. MD5 hashing for string data type\n",
        "import hashlib\n",
        "\n",
        "print(\"1. MD5 hashing\")\n",
        "\n",
        "str1=input(\"Enter the string:\")\n",
        "bstr = str1.encode()#converts str into the byte equivalent using encode() so that it can be accepted by the hash function\n",
        "\n",
        "result=hashlib.md5(bstr)\n",
        "print(\"Original String:\",str1)\n",
        "print(\"MD5 Hashed string (hex representation):\",result.hexdigest())#hexdigest returns a hex string representing the hash\n",
        "\n",
        "\n",
        "\n",
        "#2. Generating hashes using 3 more algorithms\n",
        "# print(hashlib.algorithms_available) gives all algorithms that are currently available in hashlib module\n",
        "# print(hashlib.algorithms_guaranteed) gives list of algorithms that are always available\n",
        "print(\"\\n2. 3 more hashing algorithms\")\n",
        "\n",
        "#hash with SHA-1\n",
        "print(\"SHA-1:\",hashlib.sha1(bstr).hexdigest())\n",
        "\n",
        "# hash with SHA-2 (SHA-256)\n",
        "print(\"SHA-256:\", hashlib.sha256(bstr).hexdigest())\n",
        "\n",
        "# hash with SHA-3\n",
        "print(\"SHA-3-256:\", hashlib.sha3_256(bstr).hexdigest())\n",
        "\n",
        "#3. Salting and iterations\n",
        "print(\"\\n3. Simple Salting and Iterations\")\n",
        "salt='a1'#This would get added to string\n",
        "cstr=str1+salt#Salted string\t\t\n",
        "print('salted string = ',cstr)\n",
        "cstr=cstr.encode()\n",
        "i=0\n",
        "buf=b\"\"#Buffer string object\n",
        "while i<3:\t\t\n",
        "\tbuf = hashlib.md5(buf + cstr).digest()\n",
        "\tcstr=b\"\"\t\n",
        "\ti=i+1\t\n",
        "\tprint('\\nMD5 hashing Iteration (byte representation) ',i,' = ',buf)\n",
        "\n",
        "print('\\n Final value in hex representation = ',buf.hex())\n",
        "\n",
        "\n",
        "\t\n"
      ],
      "execution_count": 1,
      "outputs": [
        {
          "output_type": "stream",
          "text": [
            "1. MD5 hashing\n",
            "Enter the string:hi\n",
            "Original String: hi\n",
            "MD5 Hashed string (hex representation): 49f68a5c8493ec2c0bf489821c21fc3b\n",
            "\n",
            "2. 3 more hashing algorithms\n",
            "SHA-1: c22b5f9178342609428d6f51b2c5af4c0bde6a42\n",
            "SHA-256: 8f434346648f6b96df89dda901c5176b10a6d83961dd3c1ac88b59b2dc327aa4\n",
            "SHA-3-256: b39c14c8da3b23811f6415b7e0b33526d7e07a46f2cf0484179435767e4a8804\n",
            "\n",
            "3. Simple Salting and Iterations\n",
            "salted string =  hia1\n",
            "\n",
            "MD5 hashing Iteration (byte representation)  1  =  b'\\x844\\xd0\\x9f\\x1f\\x17tfR\\xe0B\\x9e\\x150\\xb4\\x01'\n",
            "\n",
            "MD5 hashing Iteration (byte representation)  2  =  b'X\\xe57\\x1c\\x08\\xaa\\xa0\\tAgu\\xc2C\\xf1\\xea\\x8a'\n",
            "\n",
            "MD5 hashing Iteration (byte representation)  3  =  b'T\\xf5\\xef^]4\\xf2\\x82\\xa8\\xcb9\\x12?\\xab\\x84g'\n",
            "\n",
            " Final value in hex representation =  54f5ef5e5d34f282a8cb39123fab8467\n"
          ],
          "name": "stdout"
        }
      ]
    }
  ]
}